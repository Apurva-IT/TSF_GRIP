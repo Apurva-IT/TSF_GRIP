{
 "cells": [
  {
   "cell_type": "markdown",
   "metadata": {
    "id": "KpfBP49vPpA0"
   },
   "source": [
    "**DATA SCIENCE & BUSINESS ANALYTICS (GRIP September 2022)**"
   ]
  },
  {
   "cell_type": "markdown",
   "metadata": {
    "id": "9O1YM470QLyN"
   },
   "source": [
    "**Author - APURVA MISHRA**"
   ]
  },
  {
   "cell_type": "markdown",
   "metadata": {
    "id": "hjcdDgimP8HP"
   },
   "source": [
    "**TASK-1 Prediction using Supervised ML**"
   ]
  },
  {
   "cell_type": "markdown",
   "metadata": {
    "id": "BUjEt_rfQEbl"
   },
   "source": [
    "Problem Statement: Perform exploratory Data Analysis on dataset 'Student' \n",
    "To Predict the percentage of marks of the students based on the number of hours\n",
    "they studied."
   ]
  },
  {
   "cell_type": "markdown",
   "metadata": {
    "id": "XP6OOEAefiaI"
   },
   "source": [
    "Dataset Sample: http://bit.ly/w-data"
   ]
  },
  {
   "cell_type": "code",
   "execution_count": 1,
   "metadata": {
    "id": "q_H14v19NpEb"
   },
   "outputs": [],
   "source": [
    "# importing the required libraries\n",
    "import pandas as pd\n",
    "import numpy as np\n",
    "import matplotlib.pyplot as plt \n",
    "import seaborn as sns\n",
    "from sklearn.model_selection import train_test_split\n",
    "from sklearn.linear_model import LinearRegression\n",
    "from sklearn.metrics import mean_absolute_error"
   ]
  },
  {
   "cell_type": "code",
   "execution_count": 2,
   "metadata": {
    "colab": {
     "base_uri": "https://localhost:8080/",
     "height": 363
    },
    "id": "7Goj786IN2qE",
    "outputId": "dd0044e3-62bf-4e64-d6d2-c14d9a1e2641"
   },
   "outputs": [
    {
     "data": {
      "text/html": [
       "<div>\n",
       "<style scoped>\n",
       "    .dataframe tbody tr th:only-of-type {\n",
       "        vertical-align: middle;\n",
       "    }\n",
       "\n",
       "    .dataframe tbody tr th {\n",
       "        vertical-align: top;\n",
       "    }\n",
       "\n",
       "    .dataframe thead th {\n",
       "        text-align: right;\n",
       "    }\n",
       "</style>\n",
       "<table border=\"1\" class=\"dataframe\">\n",
       "  <thead>\n",
       "    <tr style=\"text-align: right;\">\n",
       "      <th></th>\n",
       "      <th>Hours</th>\n",
       "      <th>Scores</th>\n",
       "    </tr>\n",
       "  </thead>\n",
       "  <tbody>\n",
       "    <tr>\n",
       "      <th>0</th>\n",
       "      <td>2.5</td>\n",
       "      <td>21</td>\n",
       "    </tr>\n",
       "    <tr>\n",
       "      <th>1</th>\n",
       "      <td>5.1</td>\n",
       "      <td>47</td>\n",
       "    </tr>\n",
       "    <tr>\n",
       "      <th>2</th>\n",
       "      <td>3.2</td>\n",
       "      <td>27</td>\n",
       "    </tr>\n",
       "    <tr>\n",
       "      <th>3</th>\n",
       "      <td>8.5</td>\n",
       "      <td>75</td>\n",
       "    </tr>\n",
       "    <tr>\n",
       "      <th>4</th>\n",
       "      <td>3.5</td>\n",
       "      <td>30</td>\n",
       "    </tr>\n",
       "    <tr>\n",
       "      <th>5</th>\n",
       "      <td>1.5</td>\n",
       "      <td>20</td>\n",
       "    </tr>\n",
       "    <tr>\n",
       "      <th>6</th>\n",
       "      <td>9.2</td>\n",
       "      <td>88</td>\n",
       "    </tr>\n",
       "    <tr>\n",
       "      <th>7</th>\n",
       "      <td>5.5</td>\n",
       "      <td>60</td>\n",
       "    </tr>\n",
       "    <tr>\n",
       "      <th>8</th>\n",
       "      <td>8.3</td>\n",
       "      <td>81</td>\n",
       "    </tr>\n",
       "    <tr>\n",
       "      <th>9</th>\n",
       "      <td>2.7</td>\n",
       "      <td>25</td>\n",
       "    </tr>\n",
       "  </tbody>\n",
       "</table>\n",
       "</div>"
      ],
      "text/plain": [
       "   Hours  Scores\n",
       "0    2.5      21\n",
       "1    5.1      47\n",
       "2    3.2      27\n",
       "3    8.5      75\n",
       "4    3.5      30\n",
       "5    1.5      20\n",
       "6    9.2      88\n",
       "7    5.5      60\n",
       "8    8.3      81\n",
       "9    2.7      25"
      ]
     },
     "execution_count": 2,
     "metadata": {},
     "output_type": "execute_result"
    }
   ],
   "source": [
    "# Reading the Data \n",
    "data = pd.read_csv('http://bit.ly/w-data')\n",
    "data.head(10)"
   ]
  },
  {
   "cell_type": "code",
   "execution_count": 3,
   "metadata": {
    "colab": {
     "base_uri": "https://localhost:8080/"
    },
    "id": "XhE0TcnZN-Sb",
    "outputId": "d395b080-d2f0-4a70-b4a5-40e3e20cdbbd"
   },
   "outputs": [
    {
     "data": {
      "text/plain": [
       "False"
      ]
     },
     "execution_count": 3,
     "metadata": {},
     "output_type": "execute_result"
    }
   ],
   "source": [
    "\n",
    "# Check if there any null value in the Dataset\n",
    "data.isnull == True"
   ]
  },
  {
   "cell_type": "markdown",
   "metadata": {
    "id": "96CeCAcWQYkr"
   },
   "source": [
    "**There is no null value in the Dataset so, we can now visualize our Data.**"
   ]
  },
  {
   "cell_type": "code",
   "execution_count": 4,
   "metadata": {
    "colab": {
     "base_uri": "https://localhost:8080/",
     "height": 303
    },
    "id": "DkEaXbRAOCVn",
    "outputId": "d3a9e50b-7422-4ca9-8c78-2a1a382268f7"
   },
   "outputs": [
    {
     "data": {
      "image/png": "[encoded data removed]",
      "text/plain": [
       "<Figure size 432x288 with 1 Axes>"
      ]
     },
     "metadata": {},
     "output_type": "display_data"
    }
   ],
   "source": [
    "sns.set_style('whitegrid')\n",
    "sns.scatterplot(y= data['Scores'], x= data['Hours'])\n",
    "plt.title('Marks Vs Study Hours',size=20)\n",
    "plt.ylabel('Marks Percentage', size=12)\n",
    "plt.xlabel('Hours Studied', size=12)\n",
    "plt.show()"
   ]
  },
  {
   "cell_type": "markdown",
   "metadata": {
    "id": "8yLURH4AQfKU"
   },
   "source": [
    "**From the above scatter plot there looks to be correlation between the 'Marks Percentage' and 'Hours Studied', Lets plot a regression line to confirm the correlation.**"
   ]
  },
  {
   "cell_type": "code",
   "execution_count": 5,
   "metadata": {
    "colab": {
     "base_uri": "https://localhost:8080/",
     "height": 355
    },
    "id": "-Ne2ogPfOMfz",
    "outputId": "894b3527-1ea4-481c-8c31-1d62b679e532"
   },
   "outputs": [
    {
     "data": {
      "image/png": "[encoded data removed]",
      "text/plain": [
       "<Figure size 432x288 with 1 Axes>"
      ]
     },
     "metadata": {},
     "output_type": "display_data"
    },
    {
     "name": "stdout",
     "output_type": "stream",
     "text": [
      "           Hours    Scores\n",
      "Hours   1.000000  0.976191\n",
      "Scores  0.976191  1.000000\n"
     ]
    }
   ],
   "source": [
    "sns.regplot(x= data['Hours'], y= data['Scores'])\n",
    "plt.title('Regression Plot',size=20)\n",
    "plt.ylabel('Marks Percentage', size=12)\n",
    "plt.xlabel('Hours Studied', size=12)\n",
    "plt.show()\n",
    "print(data.corr())"
   ]
  },
  {
   "cell_type": "markdown",
   "metadata": {
    "id": "cu0ymdZuQl81"
   },
   "source": [
    "\n",
    "**It is confirmed that the variables are positively correlated.**"
   ]
  },
  {
   "cell_type": "markdown",
   "metadata": {
    "id": "jXSiwSPFQoTd"
   },
   "source": [
    "**Training the Model**"
   ]
  },
  {
   "cell_type": "markdown",
   "metadata": {
    "id": "xuvKQ_OmQ4uw"
   },
   "source": [
    "**1) Splitting the Data**"
   ]
  },
  {
   "cell_type": "code",
   "execution_count": 6,
   "metadata": {
    "id": "uxEm1F-YOUCO"
   },
   "outputs": [],
   "source": [
    "# Defining X and y from the Data\n",
    "X = data.iloc[:, :-1].values  \n",
    "y = data.iloc[:, 1].values\n",
    "\n",
    "# Spliting the Data in two\n",
    "train_X, val_X, train_y, val_y = train_test_split(X, y, random_state = 0)"
   ]
  },
  {
   "cell_type": "markdown",
   "metadata": {
    "id": "UzxB1k1-Q94o"
   },
   "source": [
    "**2) Fitting the Data into the model**"
   ]
  },
  {
   "cell_type": "code",
   "execution_count": 7,
   "metadata": {
    "colab": {
     "base_uri": "https://localhost:8080/"
    },
    "id": "UQ09ML4ROfeX",
    "outputId": "bc05c548-111c-4bef-f42d-f3ee2055b42b"
   },
   "outputs": [
    {
     "name": "stdout",
     "output_type": "stream",
     "text": [
      "---------Model Trained---------\n"
     ]
    }
   ],
   "source": [
    "regression = LinearRegression()\n",
    "regression.fit(train_X, train_y)\n",
    "print(\"---------Model Trained---------\")"
   ]
  },
  {
   "cell_type": "markdown",
   "metadata": {
    "id": "tv6qHfElRDif"
   },
   "source": [
    "**Predicting the Percentage of Marks**"
   ]
  },
  {
   "cell_type": "code",
   "execution_count": 8,
   "metadata": {
    "colab": {
     "base_uri": "https://localhost:8080/",
     "height": 269
    },
    "id": "dwOeeRmlOjzA",
    "outputId": "08760cdb-f7f7-4b66-ec07-ef73b5f18584"
   },
   "outputs": [
    {
     "data": {
      "text/html": [
       "<div>\n",
       "<style scoped>\n",
       "    .dataframe tbody tr th:only-of-type {\n",
       "        vertical-align: middle;\n",
       "    }\n",
       "\n",
       "    .dataframe tbody tr th {\n",
       "        vertical-align: top;\n",
       "    }\n",
       "\n",
       "    .dataframe thead th {\n",
       "        text-align: right;\n",
       "    }\n",
       "</style>\n",
       "<table border=\"1\" class=\"dataframe\">\n",
       "  <thead>\n",
       "    <tr style=\"text-align: right;\">\n",
       "      <th></th>\n",
       "      <th>Hours</th>\n",
       "      <th>Predicted Marks</th>\n",
       "    </tr>\n",
       "  </thead>\n",
       "  <tbody>\n",
       "    <tr>\n",
       "      <th>0</th>\n",
       "      <td>1.5</td>\n",
       "      <td>16.844722</td>\n",
       "    </tr>\n",
       "    <tr>\n",
       "      <th>1</th>\n",
       "      <td>3.2</td>\n",
       "      <td>33.745575</td>\n",
       "    </tr>\n",
       "    <tr>\n",
       "      <th>2</th>\n",
       "      <td>7.4</td>\n",
       "      <td>75.500624</td>\n",
       "    </tr>\n",
       "    <tr>\n",
       "      <th>3</th>\n",
       "      <td>2.5</td>\n",
       "      <td>26.786400</td>\n",
       "    </tr>\n",
       "    <tr>\n",
       "      <th>4</th>\n",
       "      <td>5.9</td>\n",
       "      <td>60.588106</td>\n",
       "    </tr>\n",
       "    <tr>\n",
       "      <th>5</th>\n",
       "      <td>3.8</td>\n",
       "      <td>39.710582</td>\n",
       "    </tr>\n",
       "    <tr>\n",
       "      <th>6</th>\n",
       "      <td>1.9</td>\n",
       "      <td>20.821393</td>\n",
       "    </tr>\n",
       "  </tbody>\n",
       "</table>\n",
       "</div>"
      ],
      "text/plain": [
       "   Hours  Predicted Marks\n",
       "0    1.5        16.844722\n",
       "1    3.2        33.745575\n",
       "2    7.4        75.500624\n",
       "3    2.5        26.786400\n",
       "4    5.9        60.588106\n",
       "5    3.8        39.710582\n",
       "6    1.9        20.821393"
      ]
     },
     "execution_count": 8,
     "metadata": {},
     "output_type": "execute_result"
    }
   ],
   "source": [
    "pred_y = regression.predict(val_X)\n",
    "prediction = pd.DataFrame({'Hours': [i[0] for i in val_X], 'Predicted Marks': [k for k in pred_y]})\n",
    "prediction"
   ]
  },
  {
   "cell_type": "markdown",
   "metadata": {
    "id": "CoJB5n2cRIrW"
   },
   "source": [
    "**Comparing the Predicted Marks with the Actual Marks**"
   ]
  },
  {
   "cell_type": "code",
   "execution_count": 9,
   "metadata": {
    "colab": {
     "base_uri": "https://localhost:8080/",
     "height": 269
    },
    "id": "3R3iwJN7O6An",
    "outputId": "7ea0c081-a22c-4108-b964-44f955d848ac"
   },
   "outputs": [
    {
     "data": {
      "text/html": [
       "<div>\n",
       "<style scoped>\n",
       "    .dataframe tbody tr th:only-of-type {\n",
       "        vertical-align: middle;\n",
       "    }\n",
       "\n",
       "    .dataframe tbody tr th {\n",
       "        vertical-align: top;\n",
       "    }\n",
       "\n",
       "    .dataframe thead th {\n",
       "        text-align: right;\n",
       "    }\n",
       "</style>\n",
       "<table border=\"1\" class=\"dataframe\">\n",
       "  <thead>\n",
       "    <tr style=\"text-align: right;\">\n",
       "      <th></th>\n",
       "      <th>Actual Marks</th>\n",
       "      <th>Predicted Marks</th>\n",
       "    </tr>\n",
       "  </thead>\n",
       "  <tbody>\n",
       "    <tr>\n",
       "      <th>0</th>\n",
       "      <td>20</td>\n",
       "      <td>16.844722</td>\n",
       "    </tr>\n",
       "    <tr>\n",
       "      <th>1</th>\n",
       "      <td>27</td>\n",
       "      <td>33.745575</td>\n",
       "    </tr>\n",
       "    <tr>\n",
       "      <th>2</th>\n",
       "      <td>69</td>\n",
       "      <td>75.500624</td>\n",
       "    </tr>\n",
       "    <tr>\n",
       "      <th>3</th>\n",
       "      <td>30</td>\n",
       "      <td>26.786400</td>\n",
       "    </tr>\n",
       "    <tr>\n",
       "      <th>4</th>\n",
       "      <td>62</td>\n",
       "      <td>60.588106</td>\n",
       "    </tr>\n",
       "    <tr>\n",
       "      <th>5</th>\n",
       "      <td>35</td>\n",
       "      <td>39.710582</td>\n",
       "    </tr>\n",
       "    <tr>\n",
       "      <th>6</th>\n",
       "      <td>24</td>\n",
       "      <td>20.821393</td>\n",
       "    </tr>\n",
       "  </tbody>\n",
       "</table>\n",
       "</div>"
      ],
      "text/plain": [
       "   Actual Marks  Predicted Marks\n",
       "0            20        16.844722\n",
       "1            27        33.745575\n",
       "2            69        75.500624\n",
       "3            30        26.786400\n",
       "4            62        60.588106\n",
       "5            35        39.710582\n",
       "6            24        20.821393"
      ]
     },
     "execution_count": 9,
     "metadata": {},
     "output_type": "execute_result"
    }
   ],
   "source": [
    "compare_scores = pd.DataFrame({'Actual Marks': val_y, 'Predicted Marks': pred_y})\n",
    "compare_scores"
   ]
  },
  {
   "cell_type": "markdown",
   "metadata": {
    "id": "xySVFs3iRQK5"
   },
   "source": [
    "**Visually Comparing the Predicted Marks with the Actual Marks**"
   ]
  },
  {
   "cell_type": "code",
   "execution_count": 10,
   "metadata": {
    "colab": {
     "base_uri": "https://localhost:8080/",
     "height": 303
    },
    "id": "vA7ZhiZxO9He",
    "outputId": "e85fcc5c-6c06-4674-8c51-3cb181341b18"
   },
   "outputs": [
    {
     "data": {
      "image/png": "[encoded data removed]",
      "text/plain": [
       "<Figure size 432x288 with 1 Axes>"
      ]
     },
     "metadata": {},
     "output_type": "display_data"
    }
   ],
   "source": [
    "plt.scatter(x=val_X, y=val_y, color='red')\n",
    "plt.plot(val_X, pred_y, color='blue')\n",
    "plt.title('Actual vs Predicted', size=20)\n",
    "plt.ylabel('Marks Percentage', size=12)\n",
    "plt.xlabel('Hours Studied', size=12)\n",
    "plt.show()"
   ]
  },
  {
   "cell_type": "markdown",
   "metadata": {
    "id": "EzJRvVrFRU_3"
   },
   "source": [
    "**Evaluating the Model**"
   ]
  },
  {
   "cell_type": "code",
   "execution_count": 11,
   "metadata": {
    "colab": {
     "base_uri": "https://localhost:8080/"
    },
    "id": "RlHPH7__PCyh",
    "outputId": "27a497ba-b436-4037-c4db-6a0e4e34cc91"
   },
   "outputs": [
    {
     "name": "stdout",
     "output_type": "stream",
     "text": [
      "Mean absolute error:  4.130879918502486\n"
     ]
    }
   ],
   "source": [
    "# Calculating the accuracy of the model\n",
    "print('Mean absolute error: ',mean_absolute_error(val_y,pred_y))"
   ]
  },
  {
   "cell_type": "markdown",
   "metadata": {
    "id": "xU1puB0LRZWV"
   },
   "source": [
    "\n",
    "**Small value of Mean absolute error states that the chances of error or wrong forecasting through the model are very less.**"
   ]
  },
  {
   "cell_type": "markdown",
   "metadata": {
    "id": "obWUtEZ-RtU0"
   },
   "source": [
    "**What will be the predicted score of a student if he/she studies for 9.25 hrs/ day?**"
   ]
  },
  {
   "cell_type": "code",
   "execution_count": 12,
   "metadata": {
    "colab": {
     "base_uri": "https://localhost:8080/"
    },
    "id": "IAuIGoGQPMA3",
    "outputId": "aa79e353-d693-4959-d4d1-04d7d04ab549"
   },
   "outputs": [
    {
     "name": "stdout",
     "output_type": "stream",
     "text": [
      "Score = 93.893\n"
     ]
    }
   ],
   "source": [
    "hours = [9.25]\n",
    "answer = regression.predict([hours])\n",
    "print(\"Score = {}\".format(round(answer[0],3)))"
   ]
  },
  {
   "cell_type": "markdown",
   "metadata": {
    "id": "Wo5s534aRwjG"
   },
   "source": [
    "\n",
    "**According to the regression model if a student studies for 9.25 hours a day he/she is likely to score 93.893 marks.**"
   ]
  }
 ],
 "metadata": {
  "colab": {
   "collapsed_sections": [],
   "name": "Task1-Prediction Using Supervised ML.ipynb",
   "provenance": []
  },
  "kernelspec": {
   "display_name": "Python 3 (ipykernel)",
   "language": "python",
   "name": "python3"
  },
  "language_info": {
   "codemirror_mode": {
    "name": "ipython",
    "version": 3
   },
   "file_extension": ".py",
   "mimetype": "text/x-python",
   "name": "python",
   "nbconvert_exporter": "python",
   "pygments_lexer": "ipython3",
   "version": "3.9.7"
  }
 },
 "nbformat": 4,
 "nbformat_minor": 1
}
